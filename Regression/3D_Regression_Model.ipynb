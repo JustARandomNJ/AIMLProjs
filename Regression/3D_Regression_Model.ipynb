{
  "nbformat": 4,
  "nbformat_minor": 0,
  "metadata": {
    "colab": {
      "provenance": [],
      "authorship_tag": "ABX9TyMXdBR5Tt7p/2OVsScRLdn1",
      "include_colab_link": true
    },
    "kernelspec": {
      "name": "python3",
      "display_name": "Python 3"
    },
    "language_info": {
      "name": "python"
    }
  },
  "cells": [
    {
      "cell_type": "markdown",
      "metadata": {
        "id": "view-in-github",
        "colab_type": "text"
      },
      "source": [
        "<a href=\"https://colab.research.google.com/github/JustARandomNJ/AIMLProjs/blob/main/Regression/3D_Regression_Model.ipynb\" target=\"_parent\"><img src=\"https://colab.research.google.com/assets/colab-badge.svg\" alt=\"Open In Colab\"/></a>"
      ]
    },
    {
      "cell_type": "code",
      "execution_count": 82,
      "metadata": {
        "colab": {
          "base_uri": "https://localhost:8080/"
        },
        "id": "cj9jBUT1aLiM",
        "outputId": "e07d09e4-9b34-4e4d-c903-c84020c19279"
      },
      "outputs": [
        {
          "output_type": "stream",
          "name": "stdout",
          "text": [
            "Mean of x: 4.15\n",
            "Mean of y: 9.2\n",
            "Mean of z: 13.25\n"
          ]
        }
      ],
      "source": [
        "import matplotlib.pyplot as plt\n",
        "import random\n",
        "random.seed(42)\n",
        "\n",
        "x = [0] * 10\n",
        "\n",
        "y = [0] * 10\n",
        "\n",
        "z = [0] * 10\n",
        "\n",
        "for i in range(10):\n",
        "    x[i] += i + random.randint(-2, 2)*0.5\n",
        "    y[i] += 2*i + random.randint(-2, 2)*0.5\n",
        "    z[i] += 3*i + random.randint(-2, 2)*0.5\n",
        "\n",
        "def mean(values):\n",
        "    return sum(values) / len(values)\n",
        "\n",
        "x_mean = mean(x)\n",
        "y_mean = mean(y)\n",
        "z_mean = mean(z)\n",
        "\n",
        "print(f\"Mean of x: {x_mean}\")\n",
        "print(f\"Mean of y: {y_mean}\")\n",
        "print(f\"Mean of z: {z_mean}\")\n"
      ]
    },
    {
      "cell_type": "code",
      "source": [
        "A = []\n",
        "for i in range(len(x)):\n",
        "    A.append([1, x[i], y[i]])\n",
        "\n",
        "def transpose(matrix):\n",
        "    rows = len(matrix)\n",
        "    cols = len(matrix[0])\n",
        "    return [[matrix[i][j] for i in range(rows)] for j in range(cols)]\n",
        "\n",
        "A_T = transpose(A)\n"
      ],
      "metadata": {
        "id": "OFcVzpmBNIa5"
      },
      "execution_count": 83,
      "outputs": []
    },
    {
      "cell_type": "code",
      "source": [
        "def mat_mult(A, B):\n",
        "    rows_A = len(A)\n",
        "    cols_A = len(A[0])\n",
        "    rows_B = len(B)\n",
        "    cols_B = len(B[0])\n",
        "\n",
        "    if cols_A != rows_B:\n",
        "        raise ValueError(\"Matrix dimensions do not match for multiplication.\")\n",
        "\n",
        "    # Initialize result matrix with zeros\n",
        "    result = [[0 for _ in range(cols_B)] for _ in range(rows_A)]\n",
        "\n",
        "    # Multiply\n",
        "    for i in range(rows_A):\n",
        "        for j in range(cols_B):\n",
        "            for k in range(cols_A):\n",
        "                result[i][j] += A[i][k] * B[k][j]\n",
        "\n",
        "    return result\n",
        "\n",
        "M = mat_mult(A_T, A)\n"
      ],
      "metadata": {
        "id": "XI4XQauFWx19"
      },
      "execution_count": 84,
      "outputs": []
    },
    {
      "cell_type": "code",
      "source": [
        "def mat_vec_mult(matrix, vector):\n",
        "    rows = len(matrix)\n",
        "    cols = len(matrix[0])\n",
        "    if cols != len(vector):\n",
        "        raise ValueError(\"Incompatible dimensions for multiplication.\")\n",
        "\n",
        "    result = [0] * rows\n",
        "    for i in range(rows):\n",
        "        for j in range(cols):\n",
        "            result[i] += matrix[i][j] * vector[j]\n",
        "    return result\n",
        "\n",
        "AT_z = mat_vec_mult(A_T, z)\n"
      ],
      "metadata": {
        "id": "2CX_b_GSX1HS"
      },
      "execution_count": 85,
      "outputs": []
    },
    {
      "cell_type": "code",
      "source": [
        "def gaussian_elimination(A, b):\n",
        "    n = len(A)\n",
        "    for i in range(n):\n",
        "        max_row = max(range(i, n), key=lambda r: abs(A[r][i]))\n",
        "        A[i], A[max_row] = A[max_row], A[i]\n",
        "        b[i], b[max_row] = b[max_row], b[i]\n",
        "\n",
        "        for j in range(i+1, n):\n",
        "            ratio = A[j][i] / A[i][i]\n",
        "            for k in range(i, n):\n",
        "                A[j][k] -= ratio * A[i][k]\n",
        "            b[j] -= ratio * b[i]\n",
        "\n",
        "    x = [0] * n\n",
        "    for i in range(n-1, -1, -1):\n",
        "        x[i] = (b[i] - sum(A[i][j] * x[j] for j in range(i+1, n))) / A[i][i]\n",
        "    return x\n",
        "\n",
        "beta = gaussian_elimination([row[:] for row in M], AT_z[:])\n",
        "print(f\"Intercept (a): {beta[0]}, Coeff x (b): {beta[1]}, Coeff y (c): {beta[2]}\")\n"
      ],
      "metadata": {
        "colab": {
          "base_uri": "https://localhost:8080/"
        },
        "id": "28ZvktYK0I7L",
        "outputId": "e899cb09-676f-4a4f-d4d0-0af601aa54f2"
      },
      "execution_count": 86,
      "outputs": [
        {
          "output_type": "stream",
          "name": "stdout",
          "text": [
            "Intercept (a): 0.0037145557094158507, Coeff x (b): 0.07421385142965309, Coeff y (c): 1.4063367348758178\n"
          ]
        }
      ]
    },
    {
      "cell_type": "code",
      "source": [
        "def compute_mse(x, y, z, beta):\n",
        "    a, b, c = beta\n",
        "    n = len(z)\n",
        "    mse = 0\n",
        "    for i in range(n):\n",
        "        z_pred = a + b * x[i] + c * y[i]\n",
        "        mse += (z_pred - z[i]) ** 2\n",
        "    mse /= n\n",
        "    return mse\n",
        "\n",
        "mse = compute_mse(x, y, z, beta)\n",
        "print(f\"MSE: {mse}\")\n"
      ],
      "metadata": {
        "colab": {
          "base_uri": "https://localhost:8080/"
        },
        "id": "cWUl-Rzo0P1A",
        "outputId": "25340731-3422-4bec-cb67-ee4fbff19c1b"
      },
      "execution_count": 87,
      "outputs": [
        {
          "output_type": "stream",
          "name": "stdout",
          "text": [
            "MSE: 1.8036702782053655\n"
          ]
        }
      ]
    }
  ]
}